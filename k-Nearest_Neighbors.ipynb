{
 "cells": [
  {
   "cell_type": "code",
   "execution_count": 14,
   "metadata": {},
   "outputs": [],
   "source": [
    "import pandas as pd\n",
    "from sklearn.model_selection import train_test_split\n",
    "from sklearn.preprocessing import StandardScaler\n",
    "from sklearn.neighbors import KNeighborsClassifier\n",
    "from sklearn.metrics import accuracy_score, classification_report, confusion_matrix\n",
    "import matplotlib.pyplot as plt"
   ]
  },
  {
   "cell_type": "code",
   "execution_count": 15,
   "metadata": {},
   "outputs": [],
   "source": [
    "# Veri setini yükleyelim\n",
    "file_path = 'updated_cybersecurity_attacks.csv'\n",
    "data = pd.read_csv(file_path)"
   ]
  },
  {
   "cell_type": "code",
   "execution_count": 16,
   "metadata": {},
   "outputs": [],
   "source": [
    "# 'Protocol' sütununu kategorik verilerden sayısal değerlere dönüştürelim\n",
    "data['Protocol'] = data['Protocol'].astype('category').cat.codes\n",
    "# Gerekli sütunları seçelim\n",
    "features = data[['Source Port', 'Destination Port', 'Protocol', 'Packet Length']]\n",
    "target = data['Traffic Type']\n"
   ]
  },
  {
   "cell_type": "code",
   "execution_count": 17,
   "metadata": {},
   "outputs": [],
   "source": [
    "\n",
    "# Özellikleri ölçeklendirelim\n",
    "scaler = StandardScaler()\n",
    "scaled_features = scaler.fit_transform(features)"
   ]
  },
  {
   "cell_type": "code",
   "execution_count": 18,
   "metadata": {},
   "outputs": [],
   "source": [
    "# Veriyi eğitim ve test setlerine bölelim\n",
    "X_train, X_test, y_train, y_test = train_test_split(scaled_features, target, test_size=0.3, random_state=42)"
   ]
  },
  {
   "cell_type": "code",
   "execution_count": 19,
   "metadata": {},
   "outputs": [],
   "source": [
    "# Veriyi eğitim ve test setlerine bölelim\n",
    "X_train, X_test, y_train, y_test = train_test_split(scaled_features, target, test_size=0.3, random_state=42)\n"
   ]
  },
  {
   "cell_type": "code",
   "execution_count": 20,
   "metadata": {},
   "outputs": [],
   "source": [
    "# k-NN modelini tanımlayalım\n",
    "knn = KNeighborsClassifier(n_neighbors=5)\n",
    "\n",
    "# Modeli eğitelim\n",
    "knn.fit(X_train, y_train)\n",
    "\n",
    "# Test seti üzerinde tahmin yapalım\n",
    "y_pred = knn.predict(X_test)\n",
    "\n",
    "# Model doğruluğunu hesaplayalım\n",
    "accuracy = accuracy_score(y_test, y_pred)"
   ]
  },
  {
   "cell_type": "code",
   "execution_count": 21,
   "metadata": {},
   "outputs": [
    {
     "name": "stdout",
     "output_type": "stream",
     "text": [
      "k-NN Model Accuracy: 33.13%\n",
      "              precision    recall  f1-score   support\n",
      "\n",
      "         DNS       0.33      0.46      0.39      4016\n",
      "         FTP       0.33      0.33      0.33      3953\n",
      "        HTTP       0.34      0.20      0.25      4031\n",
      "\n",
      "    accuracy                           0.33     12000\n",
      "   macro avg       0.33      0.33      0.32     12000\n",
      "weighted avg       0.33      0.33      0.32     12000\n",
      "\n",
      "Confusion Matrix:\n",
      "[[1860 1344  812]\n",
      " [1865 1307  781]\n",
      " [1866 1356  809]]\n"
     ]
    }
   ],
   "source": [
    "print(f'k-NN Model Accuracy: {accuracy * 100:.2f}%')\n",
    "\n",
    "# Detaylı sınıflandırma raporu\n",
    "print(classification_report(y_test, y_pred))\n",
    "\n",
    "# Karışıklık matrisi\n",
    "conf_matrix = confusion_matrix(y_test, y_pred)\n",
    "print('Confusion Matrix:')\n",
    "print(conf_matrix)"
   ]
  },
  {
   "cell_type": "markdown",
   "metadata": {},
   "source": [
    "### Değerlendirme\n",
    "\n",
    "Sonuçlar doğruluğun %33.13 olduğunu gösteriyor, bu da sınıflandırmanın üç sınıf arasında rastgele yapıldığında beklenen doğruluğa yakın olduğunu gösterir. Precision, recall ve f1-score değerleri de sınıflandırmanın yeterince iyi olmadığını göstermekte. Bu, modelimizin geliştirilebileceği anlamına gelir.\n",
    "\n",
    " "
   ]
  }
 ],
 "metadata": {
  "kernelspec": {
   "display_name": "Python 3",
   "language": "python",
   "name": "python3"
  },
  "language_info": {
   "codemirror_mode": {
    "name": "ipython",
    "version": 3
   },
   "file_extension": ".py",
   "mimetype": "text/x-python",
   "name": "python",
   "nbconvert_exporter": "python",
   "pygments_lexer": "ipython3",
   "version": "3.12.3"
  }
 },
 "nbformat": 4,
 "nbformat_minor": 2
}
