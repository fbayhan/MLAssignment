{
 "cells": [
  {
   "cell_type": "code",
   "execution_count": 1,
   "metadata": {},
   "outputs": [
    {
     "name": "stdout",
     "output_type": "stream",
     "text": [
      "SVM Model Accuracy: 33.13%\n",
      "              precision    recall  f1-score   support\n",
      "\n",
      "         DNS       0.33      0.29      0.31      4016\n",
      "         FTP       0.33      0.43      0.38      3953\n",
      "        HTTP       0.33      0.28      0.30      4031\n",
      "\n",
      "    accuracy                           0.33     12000\n",
      "   macro avg       0.33      0.33      0.33     12000\n",
      "weighted avg       0.33      0.33      0.33     12000\n",
      "\n",
      "Confusion Matrix:\n",
      "[[1151 1693 1172]\n",
      " [1143 1701 1109]\n",
      " [1193 1714 1124]]\n"
     ]
    }
   ],
   "source": [
    "import pandas as pd\n",
    "from sklearn.model_selection import train_test_split\n",
    "from sklearn.preprocessing import StandardScaler\n",
    "from sklearn.svm import SVC\n",
    "from sklearn.metrics import accuracy_score, classification_report, confusion_matrix\n",
    "import matplotlib.pyplot as plt\n",
    "\n",
    "# Veri setini yükleyelim\n",
    "file_path = 'updated_cybersecurity_attacks.csv'  # Dosya yolunuza göre değiştirin\n",
    "data = pd.read_csv(file_path)\n",
    "\n",
    "# 'Protocol' sütununu kategorik verilerden sayısal değerlere dönüştürelim\n",
    "data['Protocol'] = data['Protocol'].astype('category').cat.codes\n",
    "\n",
    "# Gerekli sütunları tekrar seçelim\n",
    "features = data[['Source Port', 'Destination Port', 'Protocol', 'Packet Length']]\n",
    "target = data['Traffic Type']\n",
    "\n",
    "# Özellikleri ölçeklendirelim\n",
    "scaler = StandardScaler()\n",
    "scaled_features = scaler.fit_transform(features)\n",
    "\n",
    "# Veriyi eğitim ve test setlerine bölelim\n",
    "X_train, X_test, y_train, y_test = train_test_split(scaled_features, target, test_size=0.3, random_state=42)\n",
    "\n",
    "# SVM modelini tanımlayalım\n",
    "svm = SVC(kernel='linear')\n",
    "\n",
    "# Modeli eğitelim\n",
    "svm.fit(X_train, y_train)\n",
    "\n",
    "# Test seti üzerinde tahmin yapalım\n",
    "y_pred = svm.predict(X_test)\n",
    "\n",
    "# Model doğruluğunu hesaplayalım\n",
    "accuracy = accuracy_score(y_test, y_pred)\n",
    "print(f'SVM Model Accuracy: {accuracy * 100:.2f}%')\n",
    "\n",
    "# Detaylı sınıflandırma raporu\n",
    "print(classification_report(y_test, y_pred))\n",
    "\n",
    "# Karışıklık matrisi\n",
    "conf_matrix = confusion_matrix(y_test, y_pred)\n",
    "print('Confusion Matrix:')\n",
    "print(conf_matrix)"
   ]
  }
 ],
 "metadata": {
  "kernelspec": {
   "display_name": "Python 3",
   "language": "python",
   "name": "python3"
  },
  "language_info": {
   "codemirror_mode": {
    "name": "ipython",
    "version": 3
   },
   "file_extension": ".py",
   "mimetype": "text/x-python",
   "name": "python",
   "nbconvert_exporter": "python",
   "pygments_lexer": "ipython3",
   "version": "3.12.3"
  }
 },
 "nbformat": 4,
 "nbformat_minor": 2
}
